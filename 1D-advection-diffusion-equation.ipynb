{
 "cells": [
  {
   "cell_type": "code",
   "execution_count": 1,
   "id": "9af5e43a-4d6b-47f7-bd01-36fe736f4f89",
   "metadata": {
    "tags": []
   },
   "outputs": [
    {
     "name": "stdout",
     "output_type": "stream",
     "text": [
      "0.03 0.6 0.3\n"
     ]
    }
   ],
   "source": [
    "from Advection_Diffusion import *\n",
    "\n",
    "%matplotlib inline\n",
    "%config InlineBackend.figure_format='retina'\n",
    "Advection_Diffusion()\n",
    "\n",
    "# rho, sigma              # rho, sigma <= 1 for stability"
   ]
  }
 ],
 "metadata": {
  "kernelspec": {
   "display_name": "Python 3 (ipykernel)",
   "language": "python",
   "name": "python3"
  },
  "language_info": {
   "codemirror_mode": {
    "name": "ipython",
    "version": 3
   },
   "file_extension": ".py",
   "mimetype": "text/x-python",
   "name": "python",
   "nbconvert_exporter": "python",
   "pygments_lexer": "ipython3",
   "version": "3.9.12"
  }
 },
 "nbformat": 4,
 "nbformat_minor": 5
}
