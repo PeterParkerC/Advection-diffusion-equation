{
 "cells": [
  {
   "cell_type": "code",
   "execution_count": 1,
   "id": "6bd81b4f-2efd-4936-9d45-6f560e2140c0",
   "metadata": {},
   "outputs": [],
   "source": [
    "from Boundary_condition import *\n",
    "from scheme import *\n",
    "from make_movie import *\n",
    "from Initial_condition import *\n",
    "from Parameters import *"
   ]
  },
  {
   "cell_type": "code",
   "execution_count": 2,
   "id": "03233cb6-e176-4fc2-90c3-9ea48bf29cde",
   "metadata": {
    "tags": []
   },
   "outputs": [],
   "source": [
    "def Advection_Diffusion():\n",
    "    if scheme == 'FTBS':\n",
    "        FTBS(IC)\n",
    "    if scheme == 'CTCS':\n",
    "        CTCS(IC)    "
   ]
  },
  {
   "cell_type": "code",
   "execution_count": 3,
   "id": "4809c659-7502-4913-9faa-50bd96460cc8",
   "metadata": {
    "tags": []
   },
   "outputs": [
    {
     "name": "stdout",
     "output_type": "stream",
     "text": [
      "0.03 0.45\n"
     ]
    }
   ],
   "source": [
    "%matplotlib inline\n",
    "%config InlineBackend.figure_format='retina'\n",
    "Advection_Diffusion()\n",
    "make_movie()\n",
    "# rho, sigma              # rho, sigma <= 1 for stability"
   ]
  }
 ],
 "metadata": {
  "kernelspec": {
   "display_name": "Python 3 (ipykernel)",
   "language": "python",
   "name": "python3"
  },
  "language_info": {
   "codemirror_mode": {
    "name": "ipython",
    "version": 3
   },
   "file_extension": ".py",
   "mimetype": "text/x-python",
   "name": "python",
   "nbconvert_exporter": "python",
   "pygments_lexer": "ipython3",
   "version": "3.9.12"
  }
 },
 "nbformat": 4,
 "nbformat_minor": 5
}
