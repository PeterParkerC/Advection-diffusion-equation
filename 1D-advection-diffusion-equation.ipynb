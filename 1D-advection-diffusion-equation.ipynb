{
 "cells": [
  {
   "cell_type": "code",
   "execution_count": 1,
   "id": "6bd81b4f-2efd-4936-9d45-6f560e2140c0",
   "metadata": {},
   "outputs": [],
   "source": [
    "import matplotlib.pyplot as plt\n",
    "import numpy as np\n",
    "import os\n",
    "import cv2\n",
    "import seaborn as sns\n",
    "%matplotlib inline\n",
    "%config InlineBackend.figure_format='retina'"
   ]
  },
  {
   "cell_type": "code",
   "execution_count": 2,
   "id": "12f3c3ba-d441-4254-8535-4ab8dc8ce1ba",
   "metadata": {},
   "outputs": [],
   "source": [
    "def FTBS(c, D, nx, dx, dt, n_total, out_step, BC_method, scheme, save_fig, save_path):\n",
    "    data = np.zeros((n_total, nx))\n",
    "    u_past = np.zeros(nx)\n",
    "    u_now = np.zeros(nx)\n",
    "    u_next = np.zeros(nx)\n",
    "    sigma = c * dt / dx\n",
    "    rho = D * dt / (dx ** 2)\n",
    "    print(rho, sigma)\n",
    "    for n in range(n_total):\n",
    "        if n == 0:\n",
    "            u_next = np.copy(IC(nx))\n",
    "            \n",
    "        else:\n",
    "            u_next[1:nx-1] = u_now[1:nx-1] + rho*(u_now[2:nx]+u_now[0:nx-2]-2*u_now[1:nx-1]) - sigma*(u_now[1:nx-1]-u_now[0:nx-2])         #FTBS\n",
    "            BC(BC_method, u_next, u_now)\n",
    "            \n",
    "        u_past = np.copy(u_now)\n",
    "        u_now = np.copy(u_next)\n",
    "        data[n] = np.copy(u_now)  \n",
    "        plot_n_save(n, data, path, save_fig, out_step, save_path)\n",
    "        \n",
    "def CTCS(c, D, nx, dx, dt, n_total, out_step, BC_method, scheme, save_fig, save_path):\n",
    "    data = np.zeros((n_total, nx))\n",
    "    u_past = np.zeros(nx)\n",
    "    u_now = np.zeros(nx)\n",
    "    u_next = np.zeros(nx)\n",
    "    sigma = c * dt / dx\n",
    "    rho = D * dt / (dx ** 2)\n",
    "    print(rho, sigma)\n",
    "    for n in range(n_total):\n",
    "        if n == 0:\n",
    "            u_next = np.copy(IC(nx))\n",
    "\n",
    "        elif n == 1:\n",
    "        #1st step\n",
    "            u_next[1:nx-1] = u_now[1:nx-1] + rho*(u_now[2:nx]+u_now[0:nx-2]-2*u_now[1:nx-1]) - sigma*(u_now[1:nx-1]-u_now[0:nx-2])         #FTBS\n",
    "            BC(BC_method, u_next, u_now) \n",
    "\n",
    "        else:\n",
    "            u_next[1:nx-1] = u_past[1:nx-1] + 2.*rho*(u_now[2:nx]-2*u_now[1:nx-1]+u_now[0:nx-2]) - sigma*(u_now[2:nx]-u_now[0:nx-2])     #CTCS\n",
    "            BC(BC_method, u_next, u_now)\n",
    "\n",
    "        u_past = np.copy(u_now)\n",
    "        u_now = np.copy(u_next)\n",
    "        data[n] = np.copy(u_now)  \n",
    "        plot_n_save(n, data, path, save_fig, out_step, save_path)\n",
    "        np.savetxt('result.txt', data, fmt = '%.9g')"
   ]
  },
  {
   "cell_type": "code",
   "execution_count": 3,
   "id": "176d69dc-800e-4ef0-b124-9549640a7598",
   "metadata": {},
   "outputs": [],
   "source": [
    "def BC(BC_method, u_next, u_now):\n",
    "    if BC_method.lower() == 'fixed':          #fixed in time boundary condition\n",
    "        u_next[0] = u_now[0]                  #BC@x=0\n",
    "        u_next[-1] = u_now[-1]                #BC@x=L\n",
    "        \n",
    "    if BC_method.lower() == 'periodic':       #periodic boundary condition\n",
    "        u_next[0] = u_next[-2]                #u_0=u_L-1\n",
    "        u_next[-1] = u_next[1]                #u_L=u_1"
   ]
  },
  {
   "cell_type": "code",
   "execution_count": 4,
   "id": "03233cb6-e176-4fc2-90c3-9ea48bf29cde",
   "metadata": {
    "tags": []
   },
   "outputs": [],
   "source": [
    "def Advection_Diffusion(c, D, nx, dx, dt, n_total, out_step, BC_method, scheme, save_fig, save_path):\n",
    "    if scheme == 'FTBS':\n",
    "        FTBS(c, D, nx, dx, dt, n_total, out_step, BC_method, scheme, save_fig, save_path)\n",
    "    if scheme == 'CTCS':\n",
    "        CTCS(c, D, nx, dx, dt, n_total, out_step, BC_method, scheme, save_fig, save_path)    "
   ]
  },
  {
   "cell_type": "code",
   "execution_count": 25,
   "id": "147e570f-aa41-4166-8380-4417a131025d",
   "metadata": {},
   "outputs": [],
   "source": [
    "def plot_n_save(n, data, path, save, out_step, save_fig):\n",
    "    if n%out_step == 0:\n",
    "        title = str(n).zfill(5)\n",
    "        filename = path + title + f'.png'\n",
    "        fig = plt.figure(figsize = (6, 4), dpi = 80)\n",
    "        ax = fig.add_subplot()\n",
    "        ax.set_xlim(0,600)\n",
    "        ax.set_ylim(-0.5,1.5)\n",
    "        ax.set_ylabel('u (mag)', fontsize = 15)\n",
    "        ax.set_xlabel('x (km)', fontsize = 15)\n",
    "        ax.set_title(title, fontsize = 15)\n",
    "        ax.set_facecolor('#E6E6E6')\n",
    "        matrix=[data[n] for i in range(50)]\n",
    "        ax=sns.heatmap(data=matrix, vmin=0, vmax=1)\n",
    "        # sns.lineplot(data = data[n])\n",
    "        # sns.lineplot(data = data[0])\n",
    "        if save:\n",
    "            plt.savefig(filename, dpi = 300)\n",
    "        else:\n",
    "            plt.show()\n",
    "        plt.close()"
   ]
  },
  {
   "cell_type": "code",
   "execution_count": 28,
   "id": "87ba15e2-8580-426c-a4e2-30987f7451c0",
   "metadata": {},
   "outputs": [],
   "source": [
    "def make_movie(movie_name, fig_folder):\n",
    "    images = [img for img in sorted(os.listdir(fig_folder)) if img.endswith(\".png\")]\n",
    "    frame = cv2.imread(os.path.join(fig_folder, images[0]))\n",
    "    height, width, layers = frame.shape\n",
    "\n",
    "    fourcc = cv2.VideoWriter_fourcc(*'mp4v')\n",
    "    video = cv2.VideoWriter(movie_name, fourcc, 20, (width, height))\n",
    "\n",
    "    for image in images:\n",
    "        video.write(cv2.imread(os.path.join(fig_folder, image)))\n",
    "\n",
    "    cv2.destroyAllWindows()\n",
    "    video.release()\n"
   ]
  },
  {
   "cell_type": "code",
   "execution_count": 7,
   "id": "9d21f574-4196-409e-a88a-df94ebe94a42",
   "metadata": {
    "tags": []
   },
   "outputs": [],
   "source": [
    "def IC(nx):\n",
    "    IC = np.zeros(nx)                 #IC initialize\n",
    "    \n",
    "    # 1. A box-shaped packet located at the center\n",
    "    IC[nx//2-10:nx//2+10] = 1.        #IC\n",
    "    \n",
    "    # 2. A bell-shaped packet located at the center\n",
    "    # x = np.linspace(0, nx, num = int(nx))\n",
    "    # IC = np.exp(-8e-4*(x-nx/2)**2)\n",
    "    \n",
    "    # 3. A sinusodal shape packet\n",
    "    # IC[nx//2-10:nx//2+10] = np.cos(np.linspace(-1., 1., 20))   \n",
    "    return IC"
   ]
  },
  {
   "cell_type": "code",
   "execution_count": 26,
   "id": "4809c659-7502-4913-9faa-50bd96460cc8",
   "metadata": {
    "tags": []
   },
   "outputs": [
    {
     "name": "stdout",
     "output_type": "stream",
     "text": [
      "0.06 0.45\n"
     ]
    }
   ],
   "source": [
    "nx = 601                # number of grid points\n",
    "dx = 1000.0             # grid spacing = 1km\n",
    "dt = 30.0               # time interval = 30 second\n",
    "n_total = 9000          # final time step\n",
    "out_step = 100          # number of time steps between output\n",
    "                        # output is written every 30s x 50 = 25 mins\n",
    "D = 2000.               # diffustion constant\n",
    "c = 15.                 # propagation speed > 0 (upwind) \n",
    "path = os.getcwd() + '\\\\figs\\\\'\n",
    "BC_method = 'periodic'\n",
    "scheme = 'FTBS'\n",
    "save_fig = True\n",
    "# rho, sigma              # rho, sigma <= 1 for stability\n",
    "\n",
    "Advection_Diffusion(c, D, nx, dx, dt, n_total, out_step, BC_method, scheme, save_fig, path)"
   ]
  },
  {
   "cell_type": "code",
   "execution_count": 27,
   "id": "0c5c102a-a47b-41f3-bd1f-9660e0964e8c",
   "metadata": {},
   "outputs": [],
   "source": [
    "movie_name = 'movie.mp4v'\n",
    "fig_folder = 'figs'\n",
    "make_movie(movie_name, fig_folder)"
   ]
  },
  {
   "cell_type": "code",
   "execution_count": null,
   "id": "45161cc8-4fcc-4fe5-b3a8-8dddd9ab65aa",
   "metadata": {},
   "outputs": [],
   "source": []
  }
 ],
 "metadata": {
  "kernelspec": {
   "display_name": "Python 3 (ipykernel)",
   "language": "python",
   "name": "python3"
  },
  "language_info": {
   "codemirror_mode": {
    "name": "ipython",
    "version": 3
   },
   "file_extension": ".py",
   "mimetype": "text/x-python",
   "name": "python",
   "nbconvert_exporter": "python",
   "pygments_lexer": "ipython3",
   "version": "3.9.12"
  }
 },
 "nbformat": 4,
 "nbformat_minor": 5
}
